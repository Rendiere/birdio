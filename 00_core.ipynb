{
 "cells": [
  {
   "cell_type": "code",
   "execution_count": null,
   "metadata": {},
   "outputs": [],
   "source": [
    "# default_exp core"
   ]
  },
  {
   "cell_type": "markdown",
   "metadata": {},
   "source": [
    "# Birdio Core\n",
    "\n",
    "> The bits and bobs for accessing calls etc fro XC, setting up the file structure we use for training and so on."
   ]
  },
  {
   "cell_type": "code",
   "execution_count": null,
   "metadata": {
    "collapsed": true
   },
   "outputs": [],
   "source": []
  },
  {
   "cell_type": "code",
   "execution_count": 1,
   "metadata": {},
   "outputs": [],
   "source": [
    "#hide\n",
    "from nbdev.showdoc import *"
   ]
  },
  {
   "cell_type": "code",
   "execution_count": 13,
   "metadata": {},
   "outputs": [],
   "source": [
    "#export \n",
    "import requests\n",
    "import pandas as pd\n",
    "\n",
    "# Get the first page of results for a query on a given bounding box\n",
    "def query_box(LAT_MIN = -180, LAT_MAX = 180, LON_MIN = -180, LON_MAX = 180):\n",
    "    response = requests.get(f'https://www.xeno-canto.org/api/2/recordings?query=box:{LAT_MIN},{LON_MIN},{LAT_MAX},{LON_MAX}')\n",
    "    return response.json()\n",
    "\n",
    "# Download a complete set of all recordings on Xeno Canto - Takes Ages, run once\n",
    "def query_all_recordings(LAT_MIN = -180, LAT_MAX = 180, LON_MIN = -180, LON_MAX = 180):\n",
    "    qb = query_box()\n",
    "    recs = []\n",
    "    for page in range(1, qb['numPages']+1):\n",
    "        if page%10 == 0:\n",
    "            print(str(page)+'/' + str(qb['numPages']))\n",
    "        r = requests.get(f'https://www.xeno-canto.org/api/2/recordings?query=box:{LAT_MIN},{LON_MIN},{LAT_MAX},{LON_MAX}&page={page}')\n",
    "        recs += r.json()['recordings']\n",
    "    recordings = pd.DataFrame(recs)\n",
    "    return recordings"
   ]
  },
  {
   "cell_type": "code",
   "execution_count": 16,
   "metadata": {},
   "outputs": [],
   "source": [
    "test_query = query_box(-27, -25, 20, 30)\n",
    "# test_query # Shows total number of recordings, pages etc and 'recordings'"
   ]
  },
  {
   "cell_type": "code",
   "execution_count": 17,
   "metadata": {},
   "outputs": [
    {
     "data": {
      "text/plain": [
       "{'id': '307184',\n",
       " 'gen': 'Dendrocygna',\n",
       " 'sp': 'viduata',\n",
       " 'ssp': '',\n",
       " 'en': 'White-faced Whistling Duck',\n",
       " 'rec': 'Faansie Peacock',\n",
       " 'cnt': 'South Africa',\n",
       " 'loc': 'Bushwillow Estate, Vaalkop Dam Nature Reserve, near Beestekraal, North West',\n",
       " 'lat': '-25.3071',\n",
       " 'lng': '27.449',\n",
       " 'alt': '1000',\n",
       " 'type': 'alarm call',\n",
       " 'url': '//www.xeno-canto.org/307184',\n",
       " 'file': '//www.xeno-canto.org/307184/download',\n",
       " 'file-name': 'XC307184-Duck Whitefaced_Vaalkop_151231_27_B.mp3',\n",
       " 'sono': {'small': '//www.xeno-canto.org/sounds/uploaded/TWAAJJHMEH/ffts/XC307184-small.png',\n",
       "  'med': '//www.xeno-canto.org/sounds/uploaded/TWAAJJHMEH/ffts/XC307184-med.png',\n",
       "  'large': '//www.xeno-canto.org/sounds/uploaded/TWAAJJHMEH/ffts/XC307184-large.png',\n",
       "  'full': '//www.xeno-canto.org/sounds/uploaded/TWAAJJHMEH/ffts/XC307184-full.png'},\n",
       " 'lic': '//creativecommons.org/licenses/by-nc-sa/4.0/',\n",
       " 'q': 'B',\n",
       " 'length': '0:31',\n",
       " 'time': '09:30',\n",
       " 'date': '2015-12-31',\n",
       " 'uploaded': '2016-03-15',\n",
       " 'also': ['Himantopus himantopus'],\n",
       " 'rmk': 'Very high, anxious whistles from a raft of ducks roosting on the shore of the dam, in response to an African Fish Eagle flying over.',\n",
       " 'bird-seen': 'yes',\n",
       " 'playback-used': 'no'}"
      ]
     },
     "execution_count": 17,
     "metadata": {},
     "output_type": "execute_result"
    }
   ],
   "source": [
    "test_query['recordings'][0] # An example recording, with all the info we'd need"
   ]
  },
  {
   "cell_type": "markdown",
   "metadata": {},
   "source": [
    "Each recording has a URL for the audio file, but also comes with some sonograms. Very useful!"
   ]
  },
  {
   "cell_type": "code",
   "execution_count": 10,
   "metadata": {},
   "outputs": [
    {
     "data": {
      "text/html": [
       "<img src=\"//www.xeno-canto.org/sounds/uploaded/TWAAJJHMEH/ffts/XC307184-med.png\"/>"
      ],
      "text/plain": [
       "<IPython.core.display.Image object>"
      ]
     },
     "execution_count": 10,
     "metadata": {},
     "output_type": "execute_result"
    }
   ],
   "source": [
    "from IPython.display import Image\n",
    "Image(url=test_query['recordings'][0]['sono']['med'])"
   ]
  },
  {
   "cell_type": "markdown",
   "metadata": {},
   "source": [
    "# Creating a database of available recordings\n",
    "\n",
    "I'm going to run this once, then we can simply load the data from the CSV."
   ]
  },
  {
   "cell_type": "code",
   "execution_count": null,
   "metadata": {},
   "outputs": [],
   "source": [
    "# df = query_all_recordings()\n",
    "# df.to_csv('XC_Recordings.csv', index=False)"
   ]
  },
  {
   "cell_type": "markdown",
   "metadata": {},
   "source": [
    "# Exporting the library"
   ]
  },
  {
   "cell_type": "code",
   "execution_count": 18,
   "metadata": {},
   "outputs": [
    {
     "name": "stdout",
     "output_type": "stream",
     "text": [
      "Converted 00_core.ipynb.\n",
      "Converted index.ipynb.\n"
     ]
    }
   ],
   "source": [
    "from nbdev.export import *\n",
    "notebook2script()"
   ]
  },
  {
   "cell_type": "code",
   "execution_count": null,
   "metadata": {},
   "outputs": [],
   "source": []
  }
 ],
 "metadata": {
  "kernelspec": {
   "display_name": "Python 3",
   "language": "python",
   "name": "python3"
  },
  "language_info": {
   "codemirror_mode": {
    "name": "ipython",
    "version": 3
   },
   "file_extension": ".py",
   "mimetype": "text/x-python",
   "name": "python",
   "nbconvert_exporter": "python",
   "pygments_lexer": "ipython3",
   "version": "3.7.4"
  }
 },
 "nbformat": 4,
 "nbformat_minor": 2
}
