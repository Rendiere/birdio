{
 "cells": [
  {
   "cell_type": "code",
   "execution_count": null,
   "metadata": {},
   "outputs": [],
   "source": [
    "#hide\n",
    "from birdio.core import *"
   ]
  },
  {
   "cell_type": "markdown",
   "metadata": {},
   "source": [
    "# Birdio\n",
    "\n",
    "> Work in progress, building a bird-call identification system."
   ]
  },
  {
   "cell_type": "markdown",
   "metadata": {},
   "source": [
    "This file will become your README and also the index of your documentation."
   ]
  },
  {
   "cell_type": "markdown",
   "metadata": {},
   "source": [
    "## Install\n",
    "\n",
    "(Not set up yet)"
   ]
  },
  {
   "cell_type": "markdown",
   "metadata": {},
   "source": [
    "`pip install your_project_name`"
   ]
  },
  {
   "cell_type": "markdown",
   "metadata": {},
   "source": [
    "## How to use"
   ]
  },
  {
   "cell_type": "markdown",
   "metadata": {},
   "source": [
    "Fill me in please! Don't forget code examples:"
   ]
  },
  {
   "cell_type": "markdown",
   "metadata": {},
   "source": [
    "Querying Xeno Canto based on location:"
   ]
  },
  {
   "cell_type": "code",
   "execution_count": null,
   "metadata": {},
   "outputs": [
    {
     "data": {
      "text/plain": [
       "{'id': '459459',\n",
       " 'gen': 'Aquila',\n",
       " 'sp': 'rapax',\n",
       " 'ssp': '',\n",
       " 'en': 'Tawny Eagle',\n",
       " 'rec': 'Raphaël Nussbaumer',\n",
       " 'cnt': 'South Africa',\n",
       " 'loc': 'Kgalagadi Transfrontier Park, Northern Cape',\n",
       " 'lat': '-26.306',\n",
       " 'lng': '20.4895',\n",
       " 'alt': '900',\n",
       " 'type': 'begging call',\n",
       " 'url': '//www.xeno-canto.org/459459',\n",
       " 'file': '//www.xeno-canto.org/459459/download',\n",
       " 'file-name': 'XC459459-20181218_070850_Tawny_eagle.mp3',\n",
       " 'sono': {'small': '//www.xeno-canto.org/sounds/uploaded/KHGERYPVPK/ffts/XC459459-small.png',\n",
       "  'med': '//www.xeno-canto.org/sounds/uploaded/KHGERYPVPK/ffts/XC459459-med.png',\n",
       "  'large': '//www.xeno-canto.org/sounds/uploaded/KHGERYPVPK/ffts/XC459459-large.png',\n",
       "  'full': '//www.xeno-canto.org/sounds/uploaded/KHGERYPVPK/ffts/XC459459-full.png'},\n",
       " 'lic': '//creativecommons.org/licenses/by-nc-sa/4.0/',\n",
       " 'q': 'B',\n",
       " 'length': '0:38',\n",
       " 'time': '07:18',\n",
       " 'date': '2018-12-18',\n",
       " 'uploaded': '2019-02-28',\n",
       " 'also': [''],\n",
       " 'rmk': '',\n",
       " 'bird-seen': 'unknown',\n",
       " 'playback-used': 'unknown'}"
      ]
     },
     "execution_count": null,
     "metadata": {},
     "output_type": "execute_result"
    }
   ],
   "source": [
    "q =  query_box(-27, -25, 20, 25)\n",
    "q['recordings'][0]"
   ]
  },
  {
   "cell_type": "code",
   "execution_count": null,
   "metadata": {},
   "outputs": [],
   "source": []
  },
  {
   "cell_type": "code",
   "execution_count": null,
   "metadata": {},
   "outputs": [
    {
     "data": {
      "text/plain": [
       "2"
      ]
     },
     "execution_count": null,
     "metadata": {},
     "output_type": "execute_result"
    }
   ],
   "source": [
    "1+1"
   ]
  },
  {
   "cell_type": "code",
   "execution_count": null,
   "metadata": {},
   "outputs": [],
   "source": []
  }
 ],
 "metadata": {
  "kernelspec": {
   "display_name": "Python 3",
   "language": "python",
   "name": "python3"
  }
 },
 "nbformat": 4,
 "nbformat_minor": 2
}
